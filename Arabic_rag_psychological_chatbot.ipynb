{
  "cells": [
    {
      "cell_type": "code",
      "execution_count": null,
      "metadata": {
        "colab": {
          "base_uri": "https://localhost:8080/"
        },
        "id": "3gr4AhRNuwDb",
        "outputId": "bd653684-f4f7-424b-f688-31c10042b38c"
      },
      "outputs": [
        {
          "name": "stdout",
          "output_type": "stream",
          "text": [
            "Mounted at /content/drive\n"
          ]
        }
      ],
      "source": [
        "from google.colab import drive\n",
        "drive.mount('/content/drive')\n"
      ]
    },
    {
      "cell_type": "code",
      "execution_count": null,
      "metadata": {
        "colab": {
          "background_save": true,
          "base_uri": "https://localhost:8080/"
        },
        "id": "e3_GdjmWwMgM",
        "outputId": "b7faace6-883e-4be4-f631-d78e3b59c6c8"
      },
      "outputs": [
        {
          "name": "stdout",
          "output_type": "stream",
          "text": [
            "\u001b[2K   \u001b[90m━━━━━━━━━━━━━━━━━━━━━━━━━━━━━━━━━━━━━━━━\u001b[0m \u001b[32m67.0/67.0 MB\u001b[0m \u001b[31m12.4 MB/s\u001b[0m eta \u001b[36m0:00:00\u001b[0m\n",
            "\u001b[2K   \u001b[90m━━━━━━━━━━━━━━━━━━━━━━━━━━━━━━━━━━━━━━━━\u001b[0m \u001b[32m363.4/363.4 MB\u001b[0m \u001b[31m4.0 MB/s\u001b[0m eta \u001b[36m0:00:00\u001b[0m\n",
            "\u001b[2K   \u001b[90m━━━━━━━━━━━━━━━━━━━━━━━━━━━━━━━━━━━━━━━━\u001b[0m \u001b[32m13.8/13.8 MB\u001b[0m \u001b[31m120.9 MB/s\u001b[0m eta \u001b[36m0:00:00\u001b[0m\n",
            "\u001b[2K   \u001b[90m━━━━━━━━━━━━━━━━━━━━━━━━━━━━━━━━━━━━━━━━\u001b[0m \u001b[32m24.6/24.6 MB\u001b[0m \u001b[31m94.5 MB/s\u001b[0m eta \u001b[36m0:00:00\u001b[0m\n",
            "\u001b[2K   \u001b[90m━━━━━━━━━━━━━━━━━━━━━━━━━━━━━━━━━━━━━━━━\u001b[0m \u001b[32m883.7/883.7 kB\u001b[0m \u001b[31m57.1 MB/s\u001b[0m eta \u001b[36m0:00:00\u001b[0m\n",
            "\u001b[2K   \u001b[90m━━━━━━━━━━━━━━━━━━━━━━━━━━━━━━━━━━━━━━━━\u001b[0m \u001b[32m664.8/664.8 MB\u001b[0m \u001b[31m2.1 MB/s\u001b[0m eta \u001b[36m0:00:00\u001b[0m\n",
            "\u001b[2K   \u001b[90m━━━━━━━━━━━━━━━━━━━━━━━━━━━━━━━━━━━━━━━━\u001b[0m \u001b[32m211.5/211.5 MB\u001b[0m \u001b[31m5.7 MB/s\u001b[0m eta \u001b[36m0:00:00\u001b[0m\n",
            "\u001b[2K   \u001b[90m━━━━━━━━━━━━━━━━━━━━━━━━━━━━━━━━━━━━━━━━\u001b[0m \u001b[32m56.3/56.3 MB\u001b[0m \u001b[31m15.1 MB/s\u001b[0m eta \u001b[36m0:00:00\u001b[0m\n",
            "\u001b[2K   \u001b[90m━━━━━━━━━━━━━━━━━━━━━━━━━━━━━━━━━━━━━━━━\u001b[0m \u001b[32m127.9/127.9 MB\u001b[0m \u001b[31m7.5 MB/s\u001b[0m eta \u001b[36m0:00:00\u001b[0m\n",
            "\u001b[2K   \u001b[90m━━━━━━━━━━━━━━━━━━━━━━━━━━━━━━━━━━━━━━━━\u001b[0m \u001b[32m207.5/207.5 MB\u001b[0m \u001b[31m7.0 MB/s\u001b[0m eta \u001b[36m0:00:00\u001b[0m\n",
            "\u001b[2K   \u001b[90m━━━━━━━━━━━━━━━━━━━━━━━━━━━━━━━━━━━━━━━━\u001b[0m \u001b[32m21.1/21.1 MB\u001b[0m \u001b[31m102.2 MB/s\u001b[0m eta \u001b[36m0:00:00\u001b[0m\n",
            "\u001b[?25h"
          ]
        }
      ],
      "source": [
        "!pip install -q peft transformers datasets accelerate bitsandbytes\n"
      ]
    },
    {
      "cell_type": "code",
      "execution_count": null,
      "metadata": {
        "colab": {
          "background_save": true
        },
        "id": "OXrOyXX10wKb",
        "outputId": "aec6b42b-5e07-451f-e025-a42f96eb8b37"
      },
      "outputs": [
        {
          "name": "stdout",
          "output_type": "stream",
          "text": [
            "Requirement already satisfied: transformers in /usr/local/lib/python3.11/dist-packages (4.52.4)\n",
            "Collecting transformers\n",
            "  Downloading transformers-4.53.0-py3-none-any.whl.metadata (39 kB)\n",
            "Requirement already satisfied: filelock in /usr/local/lib/python3.11/dist-packages (from transformers) (3.18.0)\n",
            "Requirement already satisfied: huggingface-hub<1.0,>=0.30.0 in /usr/local/lib/python3.11/dist-packages (from transformers) (0.33.0)\n",
            "Requirement already satisfied: numpy>=1.17 in /usr/local/lib/python3.11/dist-packages (from transformers) (2.0.2)\n",
            "Requirement already satisfied: packaging>=20.0 in /usr/local/lib/python3.11/dist-packages (from transformers) (24.2)\n",
            "Requirement already satisfied: pyyaml>=5.1 in /usr/local/lib/python3.11/dist-packages (from transformers) (6.0.2)\n",
            "Requirement already satisfied: regex!=2019.12.17 in /usr/local/lib/python3.11/dist-packages (from transformers) (2024.11.6)\n",
            "Requirement already satisfied: requests in /usr/local/lib/python3.11/dist-packages (from transformers) (2.32.3)\n",
            "Requirement already satisfied: tokenizers<0.22,>=0.21 in /usr/local/lib/python3.11/dist-packages (from transformers) (0.21.2)\n",
            "Requirement already satisfied: safetensors>=0.4.3 in /usr/local/lib/python3.11/dist-packages (from transformers) (0.5.3)\n",
            "Requirement already satisfied: tqdm>=4.27 in /usr/local/lib/python3.11/dist-packages (from transformers) (4.67.1)\n",
            "Requirement already satisfied: fsspec>=2023.5.0 in /usr/local/lib/python3.11/dist-packages (from huggingface-hub<1.0,>=0.30.0->transformers) (2025.3.2)\n",
            "Requirement already satisfied: typing-extensions>=3.7.4.3 in /usr/local/lib/python3.11/dist-packages (from huggingface-hub<1.0,>=0.30.0->transformers) (4.14.0)\n",
            "Requirement already satisfied: hf-xet<2.0.0,>=1.1.2 in /usr/local/lib/python3.11/dist-packages (from huggingface-hub<1.0,>=0.30.0->transformers) (1.1.5)\n",
            "Requirement already satisfied: charset-normalizer<4,>=2 in /usr/local/lib/python3.11/dist-packages (from requests->transformers) (3.4.2)\n",
            "Requirement already satisfied: idna<4,>=2.5 in /usr/local/lib/python3.11/dist-packages (from requests->transformers) (3.10)\n",
            "Requirement already satisfied: urllib3<3,>=1.21.1 in /usr/local/lib/python3.11/dist-packages (from requests->transformers) (2.4.0)\n",
            "Requirement already satisfied: certifi>=2017.4.17 in /usr/local/lib/python3.11/dist-packages (from requests->transformers) (2025.6.15)\n",
            "Downloading transformers-4.53.0-py3-none-any.whl (10.8 MB)\n",
            "\u001b[2K   \u001b[90m━━━━━━━━━━━━━━━━━━━━━━━━━━━━━━━━━━━━━━━━\u001b[0m \u001b[32m10.8/10.8 MB\u001b[0m \u001b[31m90.4 MB/s\u001b[0m eta \u001b[36m0:00:00\u001b[0m\n",
            "\u001b[?25hInstalling collected packages: transformers\n",
            "  Attempting uninstall: transformers\n",
            "    Found existing installation: transformers 4.52.4\n",
            "    Uninstalling transformers-4.52.4:\n",
            "      Successfully uninstalled transformers-4.52.4\n",
            "Successfully installed transformers-4.53.0\n"
          ]
        }
      ],
      "source": [
        "!pip install -U transformers\n"
      ]
    },
    {
      "cell_type": "code",
      "execution_count": null,
      "metadata": {
        "colab": {
          "background_save": true
        },
        "id": "1havBgFQxoCl",
        "outputId": "114c8cac-c978-4847-d2c2-8d1ccf2065e9"
      },
      "outputs": [
        {
          "data": {
            "application/vnd.google.colaboratory.intrinsic+json": {
              "summary": "{\n  \"name\": \"df\",\n  \"rows\": 350,\n  \"fields\": [\n    {\n      \"column\": \"question\",\n      \"properties\": {\n        \"dtype\": \"string\",\n        \"num_unique_values\": 350,\n        \"samples\": [\n          \"\\u0639\\u0632\\u0628\\u0627\\u0621 \\u0662\\u0662 \\u0645\\u0634\\u0643\\u0644\\u062a\\u064a \\u064a\\u062c\\u064a\\u0646\\u064a \\u0634\\u0639\\u0648\\u0631 \\u063a\\u0631\\u064a\\u0628 \\u0628\\u0627\\u0646 \\u0623\\u0648\\u0630\\u064a \\u0646\\u0641\\u0633\\u064a \\u0645\\u062b\\u0644\\u0627 \\u0628\\u0627\\u0644\\u0633\\u064a\\u0627\\u0631\\u0629 \\u0648\\u0647\\u064a \\u0633\\u0631\\u064a\\u0639\\u0629 \\u064a\\u062c\\u064a\\u0646\\u064a \\u0634\\u0639\\u0648\\u0631 \\u0623\\u0641\\u062a\\u062d \\u0627\\u0644\\u0628\\u0627\\u0628 \\u0648\\u0623\\u0631\\u0645\\u064a \\u0646\\u0641\\u0633\\u064a \\u0623\\u0648 \\u0623\\u0634\\u0642 \\u064a\\u062f\\u064a \\u0628\\u0627\\u0644\\u0633\\u0643\\u064a\\u0646 \\u0627\\u0630\\u0627 \\u0634\\u0641\\u062a \\u0645\\u0631\\u0636 \\u0627\\u062e\\u0627\\u0641 \\u0645\\u0646\\u0647 \\u0628\\u0633 \\u0628\\u0639\\u0642\\u0644\\u064a \\u064a\\u0642\\u0648\\u0644 \\u064a\\u0627\\u0631\\u0628 \\u064a\\u062c\\u064a\\u0646\\u064a \\u0628\\u0639\\u062f\\u064a\\u0646 \\u0627\\u0633\\u062a\\u063a\\u0641\\u0631 \\u0645\\u0631\\u0627\\u062a \\u064a\\u062c\\u064a\\u0646\\u064a \\u0634\\u0639\\u0648\\u0631 \\u0623\\u0623\\u0630\\u064a \\u0627\\u0644\\u0644\\u064a \\u0623\\u062d\\u0628\\u0647\\u0645 \\u0645\\u0631\\u0627\\u062a \\u0644\\u0645\\u0646 \\u0623\\u0643\\u0648\\u0646 \\u0628\\u0627\\u0644\\u0645\\u0648\\u0644 \\u0628\\u0627\\u0644\\u062f\\u0648\\u0631 \\u0627\\u0644\\u062b\\u0627\\u0646\\u064a \\u0623\\u062e\\u0627\\u0641 \\u0645\\u0646 \\u0627\\u0644\\u0645\\u0631\\u062a\\u0641\\u0639 \\u0628\\u0633 \\u064a\\u062c\\u064a\\u0646\\u064a \\u0634\\u0639\\u0648\\u0631 \\u0623\\u0631\\u0645\\u064a \\u0646\\u0641\\u0633\\u064a \\u0628\\u0639\\u062f \\u062a\\u0639\\u0628\\u062a\",\n          \"\\u0642\\u0644\\u0642 \\u062f\\u0627\\u0626\\u0645 \\u0648 \\u0627\\u062b\\u0646\\u0627\\u0621 \\u0627\\u0644\\u0642\\u0644\\u0642 \\u062a\\u0633\\u062f\\u062f \\u0641\\u064a \\u0627\\u0644\\u0634\\u0647\\u064a\\u0629 \\u0648 \\u062e\\u0641\\u0642\\u0627\\u0646 \\u0641\\u064a \\u0627\\u0644\\u0642\\u0644\\u0628 \\u0648 \\u0648\\u0646\\u0648\\u0628\\u0627\\u062a \\u0647\\u0644\\u0639 \\u0648 \\u0627\\u0644\\u0634\\u0639\\u0648\\u0631 \\u0628\\u0627\\u0644\\u063a\\u0631\\u0627\\u0628\\u0629 \\u0648\\u0633\\u0648\\u0627\\u0633 \\u0662\\u0664 \\u0633\\u0627\\u0639\\u0629 \\u0648 \\u0633\\u0648\\u0627\\u0633 \\u0627\\u062b\\u0646\\u0627\\u0621 \\u0627\\u0644\\u062a\\u0643\\u0644\\u0645 \\u0630\\u0627 \\u0643\\u0644\\u0647 \\u0628\\u0633\\u0628\\u0628 \\u0628\\u062d\\u062b\\u064a \\u0639\\u0646\\u0647 \\u0627\\u0644\\u0644\\u0647 \\u0644\\u0627 \\u064a\\u0628\\u0644\\u0627\\u0646\\u064a \\u0641\\u064a\\u0647 \\u064a\\u0627\\u0631\\u0628 \\u0633\\u0627\\u0639\\u062f\\u0648\\u0646\\u064a\",\n          \"\\u0627\\u0646\\u0627 \\u0641\\u062a\\u0627\\u0629 \\u0627\\u0634\\u0639\\u0631 \\u0627\\u0646\\u0646\\u064a \\u0645\\u0642\\u0628\\u0644\\u0629 \\u0641\\u064a \\u0643\\u062b\\u064a\\u0631 \\u0645\\u0646 \\u0627\\u0644\\u0627\\u062d\\u064a\\u0627\\u0646 \\u0639\\u0644\\u064a \\u0627\\u0644\\u0627\\u0646\\u062a\\u062d\\u0627\\u0631\\u060c \\u0627\\u0646\\u0627 \\u0627\\u0644\\u0627\\u0646 \\u0627\\u0639\\u064a\\u0634 \\u0648\\u062d\\u062f\\u064a \\u0641\\u064a \\u0628\\u0644\\u062f \\u063a\\u0631\\u064a\\u0628 \\u0627\\u0634\\u0639\\u0631 \\u0628\\u0623\\u0646 \\u0643\\u0644 \\u0645\\u0646 \\u062d\\u0648\\u0644\\u064a \\u064a\\u0631\\u064a\\u062f\\u0648\\u0646 \\u0627\\u064a\\u0630\\u0627\\u0626\\u064a\\u060c \\u0627\\u0634\\u0639\\u0631 \\u0628\\u0623\\u0646 \\u0639\\u0627\\u0626\\u0644\\u062a\\u064a \\u0644\\u0627 \\u062a\\u062d\\u0628\\u0646\\u064a \\u0628\\u0644 \\u064a\\u062a\\u062d\\u062f\\u062b\\u0648\\u0646 \\u0645\\u0639\\u064a \\u0644\\u0644\\u0634\\u0641\\u0642\\u0629\\u060c \\u0627\\u0639\\u0627\\u0646\\u064a \\u0645\\u0646 \\u0627\\u0644\\u0643\\u062b\\u064a\\u0631 \\u0644\\u0627 \\u064a\\u0645\\u0643\\u0646\\u0646\\u064a \\u0648\\u0635\\u0641\\u0647 \\u0647\\u0646\\u0627\"\n        ],\n        \"semantic_type\": \"\",\n        \"description\": \"\"\n      }\n    },\n    {\n      \"column\": \"answer\",\n      \"properties\": {\n        \"dtype\": \"string\",\n        \"num_unique_values\": 348,\n        \"samples\": [\n          \"\\u062a\\u0627\\u0628\\u0639 \\u0645\\u0639 \\u0637\\u0628\\u064a\\u0628\\u0643 \\u0627\\u0644\\u0645\\u062a\\u062e\\u0635\\u0635 \\u0648\\u0627\\u062e\\u0628\\u0631\\u0647 \\u0628\\u0643\\u0644 \\u0627\\u0644\\u062a\\u063a\\u064a\\u0631\\u0627\\u062a \\u0648\\u0627\\u0644\\u0627\\u0641\\u0643\\u0627\\u0631 \\u0648\\u0627\\u0644\\u0645\\u0634\\u0627\\u0639\\u0631\",\n          \"\\u0627\\u0647\\u0644\\u0627 \\u0627\\u0634\\u0643\\u0631\\u0643 \\u062c\\u062f\\u0627 \\u0639\\u0644\\u0649 \\u0627\\u0644\\u062a\\u0648\\u0627\\u0635\\u0644 \\u0628\\u0646\\u0627 \\u064a\\u0628\\u062f\\u0648 \\u0627\\u0646\\u0643 \\u064a\\u0627 \\u0639\\u0632\\u064a\\u0632\\u062a\\u064a \\u062a\\u0645\\u0631\\u064a\\u0646 \\u0628\\u0623\\u0648\\u0642\\u0627\\u062a \\u0639\\u0635\\u064a\\u0628\\u0647 \\u0648 \\u0623\\u0646 \\u0644\\u062f\\u0643\\u064a \\u0627\\u0644\\u0645\\u0639\\u0631\\u0641\\u0647 \\u0628\\u0645\\u0627 \\u062a\\u0639\\u0627\\u0646\\u064a\\u0647 \\u0623\\u062a\\u0645\\u0646\\u0649 \\u0648\\u0627\\u0631\\u062c\\u0648 \\u0645\\u0646\\u0643 \\u0627\\u0644\\u0639\\u0645\\u0644 \\u0628\\u0646\\u0635\\u0627\\u0626\\u062d\\u064a \\u0627\\u0648\\u0644\\u0627 \\u0627\\u062d\\u0631\\u0635\\u064a \\u0639\\u0644\\u0649 \\u0639\\u062f\\u0645 \\u0627\\u0644\\u0627\\u0646\\u0639\\u0632\\u0627\\u0644 \\u0648\\u0627\\u0644\\u062c\\u0644\\u0648\\u0633 \\u0644\\u0648\\u062d\\u062f\\u0643 \\u062b\\u0627\\u0646\\u064a\\u0627 \\u0623\\u062a\\u0645\\u0646\\u0649 \\u0645\\u0646\\u0643 \\u0627\\u0644\\u062a\\u0648\\u0627\\u0635\\u0644 \\u0628\\u0623\\u064a \\u0634\\u062e\\u0635 \\u0645\\u0642\\u0631\\u0628 \\u0644\\u0643\\u064a \\u0648\\u0627\\u062e\\u0628\\u0627\\u0631\\u0647 \\u0628\\u0645\\u0627 \\u062a\\u0639\\u0627\\u0646\\u064a\\u0647 \\u062b\\u0627\\u0644\\u062b\\u0627 \\u0648\\u0623\\u0647\\u0645 \\u0634\\u064a\\u0621 . \\u0623\\u0631\\u062c\\u0648\\u0643\\u064a \\u0642\\u0648\\u0645\\u064a \\u0628\\u0632\\u064a\\u0627\\u0631\\u0629 \\u0637\\u0628\\u064a\\u0628 \\u0646\\u0641\\u0633\\u064a\\u060c \\u0625\\u0630\\u0627 \\u0644\\u0645 \\u062a\\u0633\\u062a\\u0637\\u064a\\u0639\\u064a \\u0639\\u0645\\u0644 \\u0630\\u0644\\u0643 \\u0641\\u0642\\u0648\\u0645\\u064a \\u0628\\u0632\\u064a\\u0627\\u0631\\u0629 \\u0623\\u064a \\u0637\\u0628\\u064a\\u0628 \\u0641\\u064a \\u0623\\u064a \\u0645\\u0633\\u062a\\u0634\\u0641\\u0649 \\u0648\\u0633\\u0648\\u0641 \\u064a\\u0642\\u0648\\u0645 \\u0628\\u0645\\u0633\\u0627\\u0639\\u062f\\u062a\\u0643 \\u0628\\u0645\\u0627 \\u064a\\u0633\\u062a\\u0637\\u064a\\u0639 \\u0627\\u0639\\u0644\\u0645\\u064a \\u064a\\u0627 \\u0639\\u0632\\u064a\\u0632\\u062a\\u064a \\u0623\\u0646 \\u0647\\u0646\\u0627\\u0643 \\u0645\\u0646 \\u064a\\u0647\\u0645\\u0647 \\u0623\\u0645\\u0631\\u0643 \\u0648\\u0623\\u0646 \\u0627\\u0646\\u0647\\u0627\\u0621 \\u062d\\u064a\\u0627\\u062a\\u0643 \\u0644\\u0646 \\u064a\\u0643\\u0648\\u0646 \\u0641\\u064a\\u0647 \\u062d\\u0644 \\u0644\\u0645\\u0627 \\u062a\\u0639\\u0627\\u0646\\u064a\\u0647 \\u0628\\u0644 \\u0633\\u064a\\u0643\\u0648\\u0646 \\u0633\\u0628\\u0628 \\u0644\\u062a\\u0639\\u0627\\u0633\\u0629 \\u0643\\u062b\\u064a\\u0631 \\u0645\\u0645\\u0646 \\u062d\\u0648\\u0644\\u0643 \\u0646\\u062e\\u0646 \\u062f\\u0627\\u0626\\u0645\\u0627 \\u0645\\u0648\\u062c\\u0648\\u062f\\u0648\\u0646 \\u0644\\u062e\\u062f\\u0645\\u062a\\u0643\",\n          \"\\u0644\\u0627 \\u0628\\u062f \\u0645\\u0646 \\u0645\\u0631\\u0627\\u062c\\u0639\\u0629 \\u0627\\u0644\\u0637\\u0628\\u064a\\u0628 \\u0627\\u0644\\u0646\\u0641\\u0633\\u064a \\u0644\\u0644\\u0639\\u0644\\u0627\\u062c\"\n        ],\n        \"semantic_type\": \"\",\n        \"description\": \"\"\n      }\n    },\n    {\n      \"column\": \"final_QT\",\n      \"properties\": {\n        \"dtype\": \"category\",\n        \"num_unique_values\": 33,\n        \"samples\": [\n          \"['D', 'Z']\",\n          \"['E']\",\n          \"['A', 'D', 'F']\"\n        ],\n        \"semantic_type\": \"\",\n        \"description\": \"\"\n      }\n    },\n    {\n      \"column\": \"final_AS\",\n      \"properties\": {\n        \"dtype\": \"category\",\n        \"num_unique_values\": 7,\n        \"samples\": [\n          \"['1', '2']\",\n          \"['2']\",\n          \"['1', '2', '3']\"\n        ],\n        \"semantic_type\": \"\",\n        \"description\": \"\"\n      }\n    }\n  ]\n}",
              "type": "dataframe",
              "variable_name": "df"
            },
            "text/html": [
              "\n",
              "  <div id=\"df-fde681da-d0f4-42c5-90fb-6e052e360b19\" class=\"colab-df-container\">\n",
              "    <div>\n",
              "<style scoped>\n",
              "    .dataframe tbody tr th:only-of-type {\n",
              "        vertical-align: middle;\n",
              "    }\n",
              "\n",
              "    .dataframe tbody tr th {\n",
              "        vertical-align: top;\n",
              "    }\n",
              "\n",
              "    .dataframe thead th {\n",
              "        text-align: right;\n",
              "    }\n",
              "</style>\n",
              "<table border=\"1\" class=\"dataframe\">\n",
              "  <thead>\n",
              "    <tr style=\"text-align: right;\">\n",
              "      <th></th>\n",
              "      <th>question</th>\n",
              "      <th>answer</th>\n",
              "      <th>final_QT</th>\n",
              "      <th>final_AS</th>\n",
              "    </tr>\n",
              "  </thead>\n",
              "  <tbody>\n",
              "    <tr>\n",
              "      <th>0</th>\n",
              "      <td>هل يعتبر الخوف من عدم الإنجاب مستقبلاً حالة عا...</td>\n",
              "      <td>سد تى نعم ان هناك العديد من القلق النفسى المرت...</td>\n",
              "      <td>['A', 'D']</td>\n",
              "      <td>['1', '2']</td>\n",
              "    </tr>\n",
              "    <tr>\n",
              "      <th>1</th>\n",
              "      <td>من سنه تقريبا و انا أذي نفسي ب اكثر من طريقة و...</td>\n",
              "      <td>يجب العرض علي طبيب اختصاصي امراض نفسية سوف يقو...</td>\n",
              "      <td>['B', 'E']</td>\n",
              "      <td>['2']</td>\n",
              "    </tr>\n",
              "    <tr>\n",
              "      <th>2</th>\n",
              "      <td>السلام عليكم مشكلتي تقتصر على تكرار كلمة معينة...</td>\n",
              "      <td>الوسواس القهري هو من الامراض الشاءعة ويكون في ...</td>\n",
              "      <td>['A', 'E']</td>\n",
              "      <td>['1', '2']</td>\n",
              "    </tr>\n",
              "    <tr>\n",
              "      <th>3</th>\n",
              "      <td>اكتئاب وفوبيا من المجتمع وانعزال وانطوائية وتع...</td>\n",
              "      <td>العلاج النفسي المعرفي السلوكي يعطي نتائج جيدة ...</td>\n",
              "      <td>['B', 'D']</td>\n",
              "      <td>['1']</td>\n",
              "    </tr>\n",
              "    <tr>\n",
              "      <th>4</th>\n",
              "      <td>هل الإحساس بقرب الاجل و الخوف من الموت و الاحل...</td>\n",
              "      <td>نعم بالاضافه للكثير من الاعراض الاخرى الطبيب ا...</td>\n",
              "      <td>['A', 'B', 'D']</td>\n",
              "      <td>['1', '2']</td>\n",
              "    </tr>\n",
              "  </tbody>\n",
              "</table>\n",
              "</div>\n",
              "    <div class=\"colab-df-buttons\">\n",
              "\n",
              "  <div class=\"colab-df-container\">\n",
              "    <button class=\"colab-df-convert\" onclick=\"convertToInteractive('df-fde681da-d0f4-42c5-90fb-6e052e360b19')\"\n",
              "            title=\"Convert this dataframe to an interactive table.\"\n",
              "            style=\"display:none;\">\n",
              "\n",
              "  <svg xmlns=\"http://www.w3.org/2000/svg\" height=\"24px\" viewBox=\"0 -960 960 960\">\n",
              "    <path d=\"M120-120v-720h720v720H120Zm60-500h600v-160H180v160Zm220 220h160v-160H400v160Zm0 220h160v-160H400v160ZM180-400h160v-160H180v160Zm440 0h160v-160H620v160ZM180-180h160v-160H180v160Zm440 0h160v-160H620v160Z\"/>\n",
              "  </svg>\n",
              "    </button>\n",
              "\n",
              "  <style>\n",
              "    .colab-df-container {\n",
              "      display:flex;\n",
              "      gap: 12px;\n",
              "    }\n",
              "\n",
              "    .colab-df-convert {\n",
              "      background-color: #E8F0FE;\n",
              "      border: none;\n",
              "      border-radius: 50%;\n",
              "      cursor: pointer;\n",
              "      display: none;\n",
              "      fill: #1967D2;\n",
              "      height: 32px;\n",
              "      padding: 0 0 0 0;\n",
              "      width: 32px;\n",
              "    }\n",
              "\n",
              "    .colab-df-convert:hover {\n",
              "      background-color: #E2EBFA;\n",
              "      box-shadow: 0px 1px 2px rgba(60, 64, 67, 0.3), 0px 1px 3px 1px rgba(60, 64, 67, 0.15);\n",
              "      fill: #174EA6;\n",
              "    }\n",
              "\n",
              "    .colab-df-buttons div {\n",
              "      margin-bottom: 4px;\n",
              "    }\n",
              "\n",
              "    [theme=dark] .colab-df-convert {\n",
              "      background-color: #3B4455;\n",
              "      fill: #D2E3FC;\n",
              "    }\n",
              "\n",
              "    [theme=dark] .colab-df-convert:hover {\n",
              "      background-color: #434B5C;\n",
              "      box-shadow: 0px 1px 3px 1px rgba(0, 0, 0, 0.15);\n",
              "      filter: drop-shadow(0px 1px 2px rgba(0, 0, 0, 0.3));\n",
              "      fill: #FFFFFF;\n",
              "    }\n",
              "  </style>\n",
              "\n",
              "    <script>\n",
              "      const buttonEl =\n",
              "        document.querySelector('#df-fde681da-d0f4-42c5-90fb-6e052e360b19 button.colab-df-convert');\n",
              "      buttonEl.style.display =\n",
              "        google.colab.kernel.accessAllowed ? 'block' : 'none';\n",
              "\n",
              "      async function convertToInteractive(key) {\n",
              "        const element = document.querySelector('#df-fde681da-d0f4-42c5-90fb-6e052e360b19');\n",
              "        const dataTable =\n",
              "          await google.colab.kernel.invokeFunction('convertToInteractive',\n",
              "                                                    [key], {});\n",
              "        if (!dataTable) return;\n",
              "\n",
              "        const docLinkHtml = 'Like what you see? Visit the ' +\n",
              "          '<a target=\"_blank\" href=https://colab.research.google.com/notebooks/data_table.ipynb>data table notebook</a>'\n",
              "          + ' to learn more about interactive tables.';\n",
              "        element.innerHTML = '';\n",
              "        dataTable['output_type'] = 'display_data';\n",
              "        await google.colab.output.renderOutput(dataTable, element);\n",
              "        const docLink = document.createElement('div');\n",
              "        docLink.innerHTML = docLinkHtml;\n",
              "        element.appendChild(docLink);\n",
              "      }\n",
              "    </script>\n",
              "  </div>\n",
              "\n",
              "\n",
              "    <div id=\"df-64a1f18a-63f9-46a6-a95d-a89c08113037\">\n",
              "      <button class=\"colab-df-quickchart\" onclick=\"quickchart('df-64a1f18a-63f9-46a6-a95d-a89c08113037')\"\n",
              "                title=\"Suggest charts\"\n",
              "                style=\"display:none;\">\n",
              "\n",
              "<svg xmlns=\"http://www.w3.org/2000/svg\" height=\"24px\"viewBox=\"0 0 24 24\"\n",
              "     width=\"24px\">\n",
              "    <g>\n",
              "        <path d=\"M19 3H5c-1.1 0-2 .9-2 2v14c0 1.1.9 2 2 2h14c1.1 0 2-.9 2-2V5c0-1.1-.9-2-2-2zM9 17H7v-7h2v7zm4 0h-2V7h2v10zm4 0h-2v-4h2v4z\"/>\n",
              "    </g>\n",
              "</svg>\n",
              "      </button>\n",
              "\n",
              "<style>\n",
              "  .colab-df-quickchart {\n",
              "      --bg-color: #E8F0FE;\n",
              "      --fill-color: #1967D2;\n",
              "      --hover-bg-color: #E2EBFA;\n",
              "      --hover-fill-color: #174EA6;\n",
              "      --disabled-fill-color: #AAA;\n",
              "      --disabled-bg-color: #DDD;\n",
              "  }\n",
              "\n",
              "  [theme=dark] .colab-df-quickchart {\n",
              "      --bg-color: #3B4455;\n",
              "      --fill-color: #D2E3FC;\n",
              "      --hover-bg-color: #434B5C;\n",
              "      --hover-fill-color: #FFFFFF;\n",
              "      --disabled-bg-color: #3B4455;\n",
              "      --disabled-fill-color: #666;\n",
              "  }\n",
              "\n",
              "  .colab-df-quickchart {\n",
              "    background-color: var(--bg-color);\n",
              "    border: none;\n",
              "    border-radius: 50%;\n",
              "    cursor: pointer;\n",
              "    display: none;\n",
              "    fill: var(--fill-color);\n",
              "    height: 32px;\n",
              "    padding: 0;\n",
              "    width: 32px;\n",
              "  }\n",
              "\n",
              "  .colab-df-quickchart:hover {\n",
              "    background-color: var(--hover-bg-color);\n",
              "    box-shadow: 0 1px 2px rgba(60, 64, 67, 0.3), 0 1px 3px 1px rgba(60, 64, 67, 0.15);\n",
              "    fill: var(--button-hover-fill-color);\n",
              "  }\n",
              "\n",
              "  .colab-df-quickchart-complete:disabled,\n",
              "  .colab-df-quickchart-complete:disabled:hover {\n",
              "    background-color: var(--disabled-bg-color);\n",
              "    fill: var(--disabled-fill-color);\n",
              "    box-shadow: none;\n",
              "  }\n",
              "\n",
              "  .colab-df-spinner {\n",
              "    border: 2px solid var(--fill-color);\n",
              "    border-color: transparent;\n",
              "    border-bottom-color: var(--fill-color);\n",
              "    animation:\n",
              "      spin 1s steps(1) infinite;\n",
              "  }\n",
              "\n",
              "  @keyframes spin {\n",
              "    0% {\n",
              "      border-color: transparent;\n",
              "      border-bottom-color: var(--fill-color);\n",
              "      border-left-color: var(--fill-color);\n",
              "    }\n",
              "    20% {\n",
              "      border-color: transparent;\n",
              "      border-left-color: var(--fill-color);\n",
              "      border-top-color: var(--fill-color);\n",
              "    }\n",
              "    30% {\n",
              "      border-color: transparent;\n",
              "      border-left-color: var(--fill-color);\n",
              "      border-top-color: var(--fill-color);\n",
              "      border-right-color: var(--fill-color);\n",
              "    }\n",
              "    40% {\n",
              "      border-color: transparent;\n",
              "      border-right-color: var(--fill-color);\n",
              "      border-top-color: var(--fill-color);\n",
              "    }\n",
              "    60% {\n",
              "      border-color: transparent;\n",
              "      border-right-color: var(--fill-color);\n",
              "    }\n",
              "    80% {\n",
              "      border-color: transparent;\n",
              "      border-right-color: var(--fill-color);\n",
              "      border-bottom-color: var(--fill-color);\n",
              "    }\n",
              "    90% {\n",
              "      border-color: transparent;\n",
              "      border-bottom-color: var(--fill-color);\n",
              "    }\n",
              "  }\n",
              "</style>\n",
              "\n",
              "      <script>\n",
              "        async function quickchart(key) {\n",
              "          const quickchartButtonEl =\n",
              "            document.querySelector('#' + key + ' button');\n",
              "          quickchartButtonEl.disabled = true;  // To prevent multiple clicks.\n",
              "          quickchartButtonEl.classList.add('colab-df-spinner');\n",
              "          try {\n",
              "            const charts = await google.colab.kernel.invokeFunction(\n",
              "                'suggestCharts', [key], {});\n",
              "          } catch (error) {\n",
              "            console.error('Error during call to suggestCharts:', error);\n",
              "          }\n",
              "          quickchartButtonEl.classList.remove('colab-df-spinner');\n",
              "          quickchartButtonEl.classList.add('colab-df-quickchart-complete');\n",
              "        }\n",
              "        (() => {\n",
              "          let quickchartButtonEl =\n",
              "            document.querySelector('#df-64a1f18a-63f9-46a6-a95d-a89c08113037 button');\n",
              "          quickchartButtonEl.style.display =\n",
              "            google.colab.kernel.accessAllowed ? 'block' : 'none';\n",
              "        })();\n",
              "      </script>\n",
              "    </div>\n",
              "\n",
              "    </div>\n",
              "  </div>\n"
            ],
            "text/plain": [
              "                                            question  \\\n",
              "0  هل يعتبر الخوف من عدم الإنجاب مستقبلاً حالة عا...   \n",
              "1  من سنه تقريبا و انا أذي نفسي ب اكثر من طريقة و...   \n",
              "2  السلام عليكم مشكلتي تقتصر على تكرار كلمة معينة...   \n",
              "3  اكتئاب وفوبيا من المجتمع وانعزال وانطوائية وتع...   \n",
              "4  هل الإحساس بقرب الاجل و الخوف من الموت و الاحل...   \n",
              "\n",
              "                                              answer         final_QT  \\\n",
              "0  سد تى نعم ان هناك العديد من القلق النفسى المرت...       ['A', 'D']   \n",
              "1  يجب العرض علي طبيب اختصاصي امراض نفسية سوف يقو...       ['B', 'E']   \n",
              "2  الوسواس القهري هو من الامراض الشاءعة ويكون في ...       ['A', 'E']   \n",
              "3  العلاج النفسي المعرفي السلوكي يعطي نتائج جيدة ...       ['B', 'D']   \n",
              "4  نعم بالاضافه للكثير من الاعراض الاخرى الطبيب ا...  ['A', 'B', 'D']   \n",
              "\n",
              "     final_AS  \n",
              "0  ['1', '2']  \n",
              "1       ['2']  \n",
              "2  ['1', '2']  \n",
              "3       ['1']  \n",
              "4  ['1', '2']  "
            ]
          },
          "execution_count": 4,
          "metadata": {},
          "output_type": "execute_result"
        }
      ],
      "source": [
        "import pandas as pd\n",
        "\n",
        "df = pd.read_csv(\"/content/drive/MyDrive/MentalQA/Train_Dev.tsv\", sep=\"\\t\")  # or .csv\n",
        "df.head()\n"
      ]
    },
    {
      "cell_type": "code",
      "execution_count": null,
      "metadata": {
        "colab": {
          "background_save": true
        },
        "id": "5S4eF3ETx7Hh"
      },
      "outputs": [],
      "source": [
        "df[\"prompt\"] = \"السؤال: \" + df[\"question\"] + \"\\nالجواب: \"\n",
        "df[\"output\"] = df[\"answer\"]\n"
      ]
    },
    {
      "cell_type": "code",
      "execution_count": null,
      "metadata": {
        "colab": {
          "background_save": true
        },
        "id": "G0qAHc7pyMmq"
      },
      "outputs": [],
      "source": [
        "from datasets import Dataset\n",
        "\n",
        "dataset = Dataset.from_pandas(df[[\"prompt\", \"output\"]])\n",
        "dataset = dataset.train_test_split(test_size=0.15)\n"
      ]
    },
    {
      "cell_type": "code",
      "execution_count": null,
      "metadata": {
        "colab": {
          "background_save": true,
          "referenced_widgets": [
            "b9ce8df0760d44b3976cca165f4b7902",
            "b370f4d590b8420fa6e5aaaa5ec3332f",
            "943c3266e0944350b9151d3a17de0e72",
            "dacc11039cc545b68a8d00dc0ec0e3d0",
            "ce5bd28acb2e481895d7a6e7571872b3"
          ]
        },
        "id": "QdfwMWLCySxE",
        "outputId": "05d72c45-629a-4f49-a3e5-430075bee0db"
      },
      "outputs": [
        {
          "name": "stderr",
          "output_type": "stream",
          "text": [
            "/usr/local/lib/python3.11/dist-packages/huggingface_hub/utils/_auth.py:104: UserWarning: \n",
            "Error while fetching `HF_TOKEN` secret value from your vault: 'Requesting secret HF_TOKEN timed out. Secrets can only be fetched when running from the Colab UI.'.\n",
            "You are not authenticated with the Hugging Face Hub in this notebook.\n",
            "If the error persists, please let us know by opening an issue on GitHub (https://github.com/huggingface/huggingface_hub/issues/new).\n",
            "  warnings.warn(\n"
          ]
        },
        {
          "data": {
            "application/vnd.jupyter.widget-view+json": {
              "model_id": "b9ce8df0760d44b3976cca165f4b7902",
              "version_major": 2,
              "version_minor": 0
            },
            "text/plain": [
              "tokenizer_config.json:   0%|          | 0.00/81.0 [00:00<?, ?B/s]"
            ]
          },
          "metadata": {},
          "output_type": "display_data"
        },
        {
          "data": {
            "application/vnd.jupyter.widget-view+json": {
              "model_id": "b370f4d590b8420fa6e5aaaa5ec3332f",
              "version_major": 2,
              "version_minor": 0
            },
            "text/plain": [
              "config.json:   0%|          | 0.00/541 [00:00<?, ?B/s]"
            ]
          },
          "metadata": {},
          "output_type": "display_data"
        },
        {
          "data": {
            "application/vnd.jupyter.widget-view+json": {
              "model_id": "943c3266e0944350b9151d3a17de0e72",
              "version_major": 2,
              "version_minor": 0
            },
            "text/plain": [
              "spiece.model:   0%|          | 0.00/2.44M [00:00<?, ?B/s]"
            ]
          },
          "metadata": {},
          "output_type": "display_data"
        },
        {
          "data": {
            "application/vnd.jupyter.widget-view+json": {
              "model_id": "dacc11039cc545b68a8d00dc0ec0e3d0",
              "version_major": 2,
              "version_minor": 0
            },
            "text/plain": [
              "special_tokens_map.json:   0%|          | 0.00/98.0 [00:00<?, ?B/s]"
            ]
          },
          "metadata": {},
          "output_type": "display_data"
        },
        {
          "name": "stderr",
          "output_type": "stream",
          "text": [
            "You are using the default legacy behaviour of the <class 'transformers.models.t5.tokenization_t5.T5Tokenizer'>. This is expected, and simply means that the `legacy` (previous) behavior will be used so nothing changes for you. If you want to use the new behaviour, set `legacy=False`. This should only be set if you understand what it means, and thoroughly read the reason why this was added as explained in https://github.com/huggingface/transformers/pull/24565\n"
          ]
        },
        {
          "data": {
            "application/vnd.jupyter.widget-view+json": {
              "model_id": "ce5bd28acb2e481895d7a6e7571872b3",
              "version_major": 2,
              "version_minor": 0
            },
            "text/plain": [
              "pytorch_model.bin:   0%|          | 0.00/1.13G [00:00<?, ?B/s]"
            ]
          },
          "metadata": {},
          "output_type": "display_data"
        }
      ],
      "source": [
        "from transformers import AutoTokenizer, AutoModelForSeq2SeqLM\n",
        "\n",
        "# Load clean model\n",
        "model_name = \"UBC-NLP/araT5-base\"\n",
        "tokenizer = AutoTokenizer.from_pretrained(model_name)\n",
        "model = AutoModelForSeq2SeqLM.from_pretrained(model_name).to(\"cuda\")\n",
        "\n",
        "# Ensure pad token\n",
        "if tokenizer.pad_token is None:\n",
        "    tokenizer.pad_token = tokenizer.eos_token\n",
        "model.config.pad_token_id = tokenizer.pad_token_id\n"
      ]
    },
    {
      "cell_type": "code",
      "execution_count": null,
      "metadata": {
        "colab": {
          "background_save": true
        },
        "id": "xh5ualQQ6mjS"
      },
      "outputs": [],
      "source": [
        "model = AutoModelForSeq2SeqLM.from_pretrained(\"UBC-NLP/araT5-base\").to(\"cuda\")\n"
      ]
    },
    {
      "cell_type": "code",
      "execution_count": null,
      "metadata": {
        "colab": {
          "background_save": true
        },
        "id": "JuS8j_8wzcxu"
      },
      "outputs": [],
      "source": [
        "def tokenize(example):\n",
        "    inputs = tokenizer(\n",
        "        example[\"prompt\"],\n",
        "        truncation=True,\n",
        "        padding=\"max_length\",\n",
        "        max_length=512,\n",
        "    )\n",
        "    targets = tokenizer(\n",
        "        example[\"output\"],\n",
        "        truncation=True,\n",
        "        padding=\"max_length\",\n",
        "        max_length=128,\n",
        "    )\n",
        "    inputs[\"labels\"] = targets[\"input_ids\"]\n",
        "    return inputs\n"
      ]
    },
    {
      "cell_type": "code",
      "execution_count": null,
      "metadata": {
        "colab": {
          "background_save": true,
          "referenced_widgets": [
            "df65a24137f1435ea9a30eb3c08f8e84",
            "bfb31e1b3f114b8bb7b58c0d43aa0628"
          ]
        },
        "id": "iiMFK7mNzlJZ",
        "outputId": "757c4bf0-56ec-4299-cc72-0781fcac4196"
      },
      "outputs": [
        {
          "data": {
            "application/vnd.jupyter.widget-view+json": {
              "model_id": "df65a24137f1435ea9a30eb3c08f8e84",
              "version_major": 2,
              "version_minor": 0
            },
            "text/plain": [
              "Map:   0%|          | 0/297 [00:00<?, ? examples/s]"
            ]
          },
          "metadata": {},
          "output_type": "display_data"
        },
        {
          "data": {
            "application/vnd.jupyter.widget-view+json": {
              "model_id": "bfb31e1b3f114b8bb7b58c0d43aa0628",
              "version_major": 2,
              "version_minor": 0
            },
            "text/plain": [
              "Map:   0%|          | 0/53 [00:00<?, ? examples/s]"
            ]
          },
          "metadata": {},
          "output_type": "display_data"
        }
      ],
      "source": [
        "tokenized_dataset = dataset.map(tokenize, batched=True)\n"
      ]
    },
    {
      "cell_type": "code",
      "execution_count": null,
      "metadata": {
        "colab": {
          "background_save": true
        },
        "id": "KDVbBN9QztYo",
        "outputId": "188ff048-d5c7-4920-fd90-39e85bdfeefc"
      },
      "outputs": [
        {
          "name": "stdout",
          "output_type": "stream",
          "text": [
            "trainable params: 884,736 || all params: 283,655,424 || trainable%: 0.3119\n"
          ]
        }
      ],
      "source": [
        "from peft import LoraConfig, get_peft_model, TaskType\n",
        "\n",
        "lora_config = LoraConfig(\n",
        "    r=8,\n",
        "    lora_alpha=16,\n",
        "    lora_dropout=0.1,\n",
        "    bias=\"none\",\n",
        "    target_modules=[\"q\", \"v\"],  # For T5-based models\n",
        "    task_type=TaskType.SEQ_2_SEQ_LM\n",
        ")\n",
        "\n",
        "model = get_peft_model(model, lora_config)\n",
        "model.print_trainable_parameters()\n"
      ]
    },
    {
      "cell_type": "code",
      "execution_count": null,
      "metadata": {
        "colab": {
          "background_save": true
        },
        "id": "4eOLrqfMzyh9",
        "outputId": "0074e6cf-db80-4fb6-a038-7f72456c8000"
      },
      "outputs": [
        {
          "name": "stderr",
          "output_type": "stream",
          "text": [
            "/tmp/ipython-input-12-2801130562.py:18: FutureWarning: `tokenizer` is deprecated and will be removed in version 5.0.0 for `Trainer.__init__`. Use `processing_class` instead.\n",
            "  trainer = Trainer(\n",
            "No label_names provided for model class `PeftModelForSeq2SeqLM`. Since `PeftModel` hides base models input arguments, if label_names is not given, label_names can't be set automatically within `Trainer`. Note that empty label_names list will be used instead.\n"
          ]
        }
      ],
      "source": [
        "from transformers import TrainingArguments, Trainer, DataCollatorForSeq2Seq\n",
        "\n",
        "training_args = TrainingArguments(\n",
        "    output_dir=\"./arat5-qlora\",\n",
        "    per_device_train_batch_size=4,\n",
        "    per_device_eval_batch_size=4,\n",
        "    num_train_epochs=10,\n",
        "    learning_rate=2e-4,\n",
        "    save_strategy=\"epoch\",  # Still save at the end of each epoch\n",
        "    fp16=True,\n",
        "    logging_dir=\"./logs\",\n",
        "    logging_steps=10,\n",
        "    save_total_limit=2,\n",
        ")\n",
        "\n",
        "data_collator = DataCollatorForSeq2Seq(tokenizer, model=model)\n",
        "\n",
        "trainer = Trainer(\n",
        "    model=model,\n",
        "    args=training_args,\n",
        "    train_dataset=tokenized_dataset[\"train\"],\n",
        "    eval_dataset=tokenized_dataset[\"test\"],  # Still evaluated after training if you want\n",
        "    tokenizer=tokenizer,\n",
        "    data_collator=data_collator,\n",
        ")\n"
      ]
    },
    {
      "cell_type": "code",
      "execution_count": null,
      "metadata": {
        "id": "vGGeqbHy0X7p"
      },
      "outputs": [],
      "source": [
        "trainer.train()\n"
      ]
    },
    {
      "cell_type": "code",
      "execution_count": null,
      "metadata": {
        "colab": {
          "background_save": true
        },
        "id": "Kmwsf6p34I9n"
      },
      "outputs": [],
      "source": [
        "def generate_answer(question):\n",
        "    prompt = f\"السؤال: {question}\\nالجواب:\"\n",
        "    inputs = tokenizer(\n",
        "        prompt,\n",
        "        return_tensors=\"pt\",\n",
        "        padding=\"max_length\",\n",
        "        truncation=True,\n",
        "        max_length=512  # add fixed length\n",
        "    ).to(model.device)\n",
        "\n",
        "    outputs = model.generate(\n",
        "        **inputs,\n",
        "        max_new_tokens=150,\n",
        "        do_sample=True,\n",
        "        top_p=0.9,\n",
        "        temperature=0.8,\n",
        "        pad_token_id=tokenizer.pad_token_id  # critical fix\n",
        "    )\n",
        "\n",
        "    return tokenizer.decode(outputs[0], skip_special_tokens=True)\n"
      ]
    },
    {
      "cell_type": "code",
      "execution_count": null,
      "metadata": {
        "colab": {
          "background_save": true
        },
        "id": "_eccuSUl5VIO"
      },
      "outputs": [],
      "source": [
        "# Ensure padding token exists\n",
        "if tokenizer.pad_token is None:\n",
        "    tokenizer.pad_token = tokenizer.eos_token\n",
        "\n",
        "# Explicitly assign it to model\n",
        "model.config.pad_token_id = tokenizer.pad_token_id\n"
      ]
    },
    {
      "cell_type": "code",
      "execution_count": null,
      "metadata": {
        "id": "PxTSFjFF4LgC"
      },
      "outputs": [],
      "source": [
        "print(generate_answer(\"أشعر بالتعب وعدم القدرة على النوم، ماذا أفعل؟\"))"
      ]
    }
  ],
  "metadata": {
    "accelerator": "GPU",
    "colab": {
      "gpuType": "T4",
      "provenance": []
    },
    "kernelspec": {
      "display_name": "Python 3",
      "name": "python3"
    },
    "language_info": {
      "name": "python"
    }
  },
  "nbformat": 4,
  "nbformat_minor": 0
}